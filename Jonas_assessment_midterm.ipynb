{
 "cells": [
  {
   "cell_type": "code",
   "execution_count": 1,
   "id": "cac98ffb",
   "metadata": {},
   "outputs": [],
   "source": [
    "# Problem 1\n",
    "\n",
    "def longestpath(d):\n",
    "    max=0\n",
    "    for key in d:\n",
    "        path=[]\n",
    "        while key in d:\n",
    "            if key not in path:\n",
    "                path.append(key)\n",
    "                key=d[key]\n",
    "            else:\n",
    "                break\n",
    "        if len(path)>max:\n",
    "            max=len(path)\n",
    "    return max"
   ]
  },
  {
   "cell_type": "code",
   "execution_count": 2,
   "id": "adb0a925",
   "metadata": {},
   "outputs": [
    {
     "name": "stdout",
     "output_type": "stream",
     "text": [
      "2\n"
     ]
    }
   ],
   "source": [
    "dict2 ={'a':'b', 'b':'a'}\n",
    "print(longestpath(dict2))"
   ]
  },
  {
   "cell_type": "code",
   "execution_count": 3,
   "id": "f0cd871d",
   "metadata": {},
   "outputs": [
    {
     "name": "stdout",
     "output_type": "stream",
     "text": [
      "4\n"
     ]
    }
   ],
   "source": [
    "dict3 ={'Amy':'Bob', 'Bob':'Cat', 'Cat':'David', 'David':'Emily'}\n",
    "print(longestpath(dict3))"
   ]
  },
  {
   "cell_type": "code",
   "execution_count": 4,
   "id": "c2f9e47c",
   "metadata": {},
   "outputs": [
    {
     "name": "stdout",
     "output_type": "stream",
     "text": [
      "3\n"
     ]
    }
   ],
   "source": [
    "dict6={'Amy':'Dog', 'Bob':'Cat', 'David':'Emily','Cat':'David'}\n",
    "print(longestpath(dict6))"
   ]
  },
  {
   "cell_type": "code",
   "execution_count": 5,
   "id": "1df637a3",
   "metadata": {},
   "outputs": [
    {
     "name": "stdout",
     "output_type": "stream",
     "text": [
      "     age  sex  cp  trestbps  chol  fbs  restecg  thalach  exang  oldpeak  \\\n",
      "0     63    1   3       145   233    1        0      150      0      2.3   \n",
      "1     37    1   2       130   250    0        1      187      0      3.5   \n",
      "2     41    0   1       130   204    0        0      172      0      1.4   \n",
      "3     56    1   1       120   236    0        1      178      0      0.8   \n",
      "4     57    0   0       120   354    0        1      163      1      0.6   \n",
      "..   ...  ...  ..       ...   ...  ...      ...      ...    ...      ...   \n",
      "298   57    0   0       140   241    0        1      123      1      0.2   \n",
      "299   45    1   3       110   264    0        1      132      0      1.2   \n",
      "300   68    1   0       144   193    1        1      141      0      3.4   \n",
      "301   57    1   0       130   131    0        1      115      1      1.2   \n",
      "302   57    0   1       130   236    0        0      174      0      0.0   \n",
      "\n",
      "     slope  ca  thal  target  \n",
      "0        0   0     1       1  \n",
      "1        0   0     2       1  \n",
      "2        2   0     2       1  \n",
      "3        2   0     2       1  \n",
      "4        2   0     2       1  \n",
      "..     ...  ..   ...     ...  \n",
      "298      1   0     3       0  \n",
      "299      1   0     3       0  \n",
      "300      1   2     3       0  \n",
      "301      1   1     3       0  \n",
      "302      1   1     2       0  \n",
      "\n",
      "[303 rows x 14 columns]\n"
     ]
    }
   ],
   "source": [
    "# Problem 2 - Q1\n",
    "\n",
    "import pandas as pd\n",
    "data=pd.read_csv(\"https://raw.githubusercontent.com/XccelerateOrg/august22-midterm-JonasChan0414/master/data/heart.csv?token=GHSAT0AAAAAAB4EWPQ5HD67MXLECNTAPXZAY4TFJNQ\")\n",
    "print(data)\n"
   ]
  },
  {
   "cell_type": "code",
   "execution_count": 6,
   "id": "8512268f",
   "metadata": {},
   "outputs": [
    {
     "data": {
      "text/plain": [
       "(303, 14)"
      ]
     },
     "execution_count": 6,
     "metadata": {},
     "output_type": "execute_result"
    }
   ],
   "source": [
    "#Question 2: Return the shape of the dataframe.\n",
    "data.shape"
   ]
  },
  {
   "cell_type": "code",
   "execution_count": 21,
   "id": "c196630b",
   "metadata": {},
   "outputs": [
    {
     "name": "stdout",
     "output_type": "stream",
     "text": [
      "Counter({1: 165, 0: 138})\n",
      "<class 'pandas.core.series.Series'>\n"
     ]
    }
   ],
   "source": [
    "#Question 3:Return a Series which represent the number of people having heart disease and not having heart disease.\n",
    "from collections import Counter\n",
    "\n",
    "ser1=data['target'].squeeze()\n",
    "result = Counter(ser1)\n",
    "print(result)\n",
    "\n",
    "print(type(ser1))"
   ]
  },
  {
   "cell_type": "code",
   "execution_count": 24,
   "id": "02264bfd",
   "metadata": {},
   "outputs": [
    {
     "name": "stdout",
     "output_type": "stream",
     "text": [
      "54.46\n"
     ]
    }
   ],
   "source": [
    "# Question 4: Find the percentage of people having heart diseases. Return the percentage number with two decimal places only.\n",
    "\n",
    "a = (165*100/(165+138))\n",
    "print(round(a, 2))\n"
   ]
  },
  {
   "cell_type": "code",
   "execution_count": 29,
   "id": "3e2ffdaf",
   "metadata": {},
   "outputs": [
    {
     "name": "stdout",
     "output_type": "stream",
     "text": [
      "(165, 14)\n",
      "(138, 14)\n"
     ]
    }
   ],
   "source": [
    "# Question 5\n",
    "data1 = data[data.target != 0]\n",
    "print(data1.shape)\n",
    "\n",
    "data0 = data[data.target != 1]\n",
    "print(data0.shape)"
   ]
  },
  {
   "cell_type": "code",
   "execution_count": 32,
   "id": "c570b8bf",
   "metadata": {},
   "outputs": [
    {
     "name": "stdout",
     "output_type": "stream",
     "text": [
      "age          52.496970\n",
      "sex           0.563636\n",
      "cp            1.375758\n",
      "trestbps    129.303030\n",
      "chol        242.230303\n",
      "fbs           0.139394\n",
      "restecg       0.593939\n",
      "thalach     158.466667\n",
      "exang         0.139394\n",
      "oldpeak       0.583030\n",
      "slope         1.593939\n",
      "ca            0.363636\n",
      "thal          2.121212\n",
      "target        1.000000\n",
      "dtype: float64\n"
     ]
    }
   ],
   "source": [
    "data1a = data1.mean()\n",
    "print (data1a)"
   ]
  },
  {
   "cell_type": "code",
   "execution_count": 33,
   "id": "08924d79",
   "metadata": {},
   "outputs": [
    {
     "name": "stdout",
     "output_type": "stream",
     "text": [
      "age          56.601449\n",
      "sex           0.826087\n",
      "cp            0.478261\n",
      "trestbps    134.398551\n",
      "chol        251.086957\n",
      "fbs           0.159420\n",
      "restecg       0.449275\n",
      "thalach     139.101449\n",
      "exang         0.550725\n",
      "oldpeak       1.585507\n",
      "slope         1.166667\n",
      "ca            1.166667\n",
      "thal          2.543478\n",
      "target        0.000000\n",
      "dtype: float64\n"
     ]
    }
   ],
   "source": [
    "data0a = data0.mean()\n",
    "print (data0a)"
   ]
  },
  {
   "cell_type": "code",
   "execution_count": 34,
   "id": "733daa87",
   "metadata": {},
   "outputs": [
    {
     "data": {
      "text/plain": [
       "age          52.496970\n",
       "sex           0.563636\n",
       "cp            1.375758\n",
       "trestbps    129.303030\n",
       "chol        242.230303\n",
       "fbs           0.139394\n",
       "restecg       0.593939\n",
       "thalach     158.466667\n",
       "exang         0.139394\n",
       "oldpeak       0.583030\n",
       "slope         1.593939\n",
       "ca            0.363636\n",
       "thal          2.121212\n",
       "target        1.000000\n",
       "age          56.601449\n",
       "sex           0.826087\n",
       "cp            0.478261\n",
       "trestbps    134.398551\n",
       "chol        251.086957\n",
       "fbs           0.159420\n",
       "restecg       0.449275\n",
       "thalach     139.101449\n",
       "exang         0.550725\n",
       "oldpeak       1.585507\n",
       "slope         1.166667\n",
       "ca            1.166667\n",
       "thal          2.543478\n",
       "target        0.000000\n",
       "dtype: float64"
      ]
     },
     "metadata": {},
     "output_type": "display_data"
    }
   ],
   "source": [
    "frames = [data1a, data0a]\n",
    "  \n",
    "result = pd.concat(frames)\n",
    "display(result)"
   ]
  },
  {
   "cell_type": "code",
   "execution_count": 39,
   "id": "941f507d",
   "metadata": {},
   "outputs": [
    {
     "name": "stdout",
     "output_type": "stream",
     "text": [
      "     age  sex  trestbps  chol  fbs  restecg  thalach  exang  oldpeak  ca  ...  \\\n",
      "0     63    1       145   233    1        0      150      0      2.3   0  ...   \n",
      "1     37    1       130   250    0        1      187      0      3.5   0  ...   \n",
      "2     41    0       130   204    0        0      172      0      1.4   0  ...   \n",
      "3     56    1       120   236    0        1      178      0      0.8   0  ...   \n",
      "4     57    0       120   354    0        1      163      1      0.6   0  ...   \n",
      "..   ...  ...       ...   ...  ...      ...      ...    ...      ...  ..  ...   \n",
      "298   57    0       140   241    0        1      123      1      0.2   0  ...   \n",
      "299   45    1       110   264    0        1      132      0      1.2   0  ...   \n",
      "300   68    1       144   193    1        1      141      0      3.4   2  ...   \n",
      "301   57    1       130   131    0        1      115      1      1.2   1  ...   \n",
      "302   57    0       130   236    0        0      174      0      0.0   1  ...   \n",
      "\n",
      "     thal_0  thal_1  thal_2  thal_3  slope_0  slope_1  slope_2  cp  thal  \\\n",
      "0         0       1       0       0        1        0        0   3     1   \n",
      "1         0       0       1       0        1        0        0   2     2   \n",
      "2         0       0       1       0        0        0        1   1     2   \n",
      "3         0       0       1       0        0        0        1   1     2   \n",
      "4         0       0       1       0        0        0        1   0     2   \n",
      "..      ...     ...     ...     ...      ...      ...      ...  ..   ...   \n",
      "298       0       0       0       1        0        1        0   0     3   \n",
      "299       0       0       0       1        0        1        0   3     3   \n",
      "300       0       0       0       1        0        1        0   0     3   \n",
      "301       0       0       0       1        0        1        0   0     3   \n",
      "302       0       0       1       0        0        1        0   1     2   \n",
      "\n",
      "     slope  \n",
      "0        0  \n",
      "1        0  \n",
      "2        2  \n",
      "3        2  \n",
      "4        2  \n",
      "..     ...  \n",
      "298      1  \n",
      "299      1  \n",
      "300      1  \n",
      "301      1  \n",
      "302      1  \n",
      "\n",
      "[303 rows x 25 columns]\n",
      "(303, 25)\n"
     ]
    }
   ],
   "source": [
    "#Q6\n",
    "\n",
    "data2 = pd.get_dummies(data, columns=['cp','thal',\"slope\"])\n",
    "\n",
    "data2['cp']= data['cp']\n",
    "data2['thal']= data['thal']\n",
    "data2['slope']= data['slope']\n",
    "\n",
    "print (data2)\n",
    "print(data2.shape)"
   ]
  },
  {
   "cell_type": "code",
   "execution_count": 40,
   "id": "035619d8",
   "metadata": {},
   "outputs": [
    {
     "name": "stdout",
     "output_type": "stream",
     "text": [
      "(303, 22)\n"
     ]
    }
   ],
   "source": [
    "#Q7\n",
    "data2.drop(['cp','thal',\"slope\"], axis = 1, inplace = True)\n",
    "print(data2.shape)"
   ]
  },
  {
   "cell_type": "code",
   "execution_count": 42,
   "id": "a06b7168",
   "metadata": {},
   "outputs": [],
   "source": [
    "#Q8\n",
    "\n",
    "from sklearn.model_selection import train_test_split\n",
    "#split : Spliting x features and y feature\n",
    "X = data2.drop(['target'], axis=1).values\n",
    "y = data2['target'].values\n",
    "\n",
    "#20% for testing\n",
    "X_train, X_test, y_train, y_test = train_test_split(X,y,test_size=0.2, random_state=42)"
   ]
  },
  {
   "cell_type": "code",
   "execution_count": 43,
   "id": "64b42f37",
   "metadata": {},
   "outputs": [],
   "source": [
    "#Q9 minmax scaler\n",
    "\n",
    "\n",
    "from sklearn.preprocessing import MinMaxScaler\n",
    "import numpy as np\n",
    "\n",
    "scale= MinMaxScaler()\n",
    "\n",
    "# standardization of dependent variables\n",
    "X_train_scaled = (scale.fit_transform(X_train)) \n",
    "X_test_scaled = (scale.fit_transform(X_test))\n",
    "\n"
   ]
  },
  {
   "cell_type": "code",
   "execution_count": 60,
   "id": "2f3e6394",
   "metadata": {},
   "outputs": [
    {
     "name": "stdout",
     "output_type": "stream",
     "text": [
      "Accuracy: 0.89\n",
      "For confusion matrix\n",
      "[[27  2]\n",
      " [ 5 27]]\n"
     ]
    },
    {
     "name": "stderr",
     "output_type": "stream",
     "text": [
      "C:\\Users\\jonas\\anaconda3\\lib\\site-packages\\sklearn\\linear_model\\_logistic.py:444: ConvergenceWarning: lbfgs failed to converge (status=1):\n",
      "STOP: TOTAL NO. of ITERATIONS REACHED LIMIT.\n",
      "\n",
      "Increase the number of iterations (max_iter) or scale the data as shown in:\n",
      "    https://scikit-learn.org/stable/modules/preprocessing.html\n",
      "Please also refer to the documentation for alternative solver options:\n",
      "    https://scikit-learn.org/stable/modules/linear_model.html#logistic-regression\n",
      "  n_iter_i = _check_optimize_result(\n"
     ]
    }
   ],
   "source": [
    "#Q10 Build a Logistic Regression model and use that model to make predictions. \n",
    "#Return the accuracy up to 2 decimal places (should be around 0.89) and the value of true positive.\n",
    "\n",
    "from sklearn.linear_model import LogisticRegression\n",
    "from sklearn.metrics import classification_report, confusion_matrix\n",
    "\n",
    "classifier = LogisticRegression(solver='lbfgs',random_state=42)\n",
    "classifier.fit(X_train, y_train)\n",
    "\n",
    "print('Accuracy: {:.2f}'.format(classifier.score(X_test, y_test)))\n",
    "\n",
    "predictions= classifier.predict(X_test)\n",
    "\n",
    "\n",
    "from sklearn.metrics import confusion_matrix\n",
    "\n",
    "# confusion matrix to find value of true positive\n",
    "print(\"For confusion matrix\")\n",
    "print(confusion_matrix(y_test , predictions))"
   ]
  },
  {
   "cell_type": "code",
   "execution_count": 61,
   "id": "a2919805",
   "metadata": {},
   "outputs": [
    {
     "name": "stdout",
     "output_type": "stream",
     "text": [
      "Accuracy: 0.66\n",
      "For confusion matrix\n",
      "[[20  9]\n",
      " [12 20]]\n"
     ]
    }
   ],
   "source": [
    "#11 KNN\n",
    "\n",
    "from sklearn.neighbors import KNeighborsClassifier\n",
    "classifier_knn=KNeighborsClassifier(n_neighbors=3,p=2,weights='distance',algorithm='auto')\n",
    "\n",
    "classifier_knn=classifier_knn.fit(X_train,y_train)\n",
    "print('Accuracy: {:.2f}'.format(classifier_knn.score(X_test,y_test)))\n",
    "\n",
    "\n",
    "predictions= classifier_knn.predict(X_test)\n",
    "\n",
    "from sklearn.metrics import confusion_matrix\n",
    "\n",
    "# confusion matrix to find value of true positive\n",
    "print(\"For confusion matrix\")\n",
    "print(confusion_matrix(y_test , predictions))\n"
   ]
  },
  {
   "cell_type": "code",
   "execution_count": null,
   "id": "7a71506f",
   "metadata": {},
   "outputs": [],
   "source": []
  },
  {
   "cell_type": "code",
   "execution_count": null,
   "id": "5dc9da76",
   "metadata": {},
   "outputs": [],
   "source": []
  },
  {
   "cell_type": "code",
   "execution_count": null,
   "id": "b4aebe9b",
   "metadata": {},
   "outputs": [],
   "source": []
  }
 ],
 "metadata": {
  "kernelspec": {
   "display_name": "Python 3 (ipykernel)",
   "language": "python",
   "name": "python3"
  },
  "language_info": {
   "codemirror_mode": {
    "name": "ipython",
    "version": 3
   },
   "file_extension": ".py",
   "mimetype": "text/x-python",
   "name": "python",
   "nbconvert_exporter": "python",
   "pygments_lexer": "ipython3",
   "version": "3.9.12"
  }
 },
 "nbformat": 4,
 "nbformat_minor": 5
}
